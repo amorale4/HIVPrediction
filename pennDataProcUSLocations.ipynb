{
 "cells": [
  {
   "cell_type": "code",
   "execution_count": 12,
   "metadata": {
    "collapsed": true
   },
   "outputs": [],
   "source": [
    "import csv, gzip\n",
    "import sys\n",
    "import re\n",
    "import numpy as np\n",
    "from numpy import random"
   ]
  },
  {
   "cell_type": "code",
   "execution_count": 18,
   "metadata": {
    "collapsed": false
   },
   "outputs": [],
   "source": [
    "def genCountyCode(stateMap, cc2PopMap, state):\n",
    "    total = 0\n",
    "    for code in stateMap[state]:\n",
    "        total = total + cc2PopMap[code]\n",
    "    dist = []\n",
    "    codes = []\n",
    "    for code in stateMap[state]:\n",
    "        dist.append(cc2PopMap[code]/total)\n",
    "        codes.append(code)\n",
    "    sample = random.multinomial(1, dist, size=1)[0]\n",
    "    #print (sample)\n",
    "    index = np.nonzero(sample)[0][0]\n",
    "    #print (index)\n",
    "    #print (codes[index])\n",
    "    return codes[index]\n",
    "\n",
    "def genCityCC(cityStateMap, cc2PopMap, city):\n",
    "    total = 0\n",
    "    dist = []\n",
    "    codes = []\n",
    "    #print (\"key, pop, county code\")\n",
    "    for state in cityStateMap:\n",
    "        key = state.split(',')[0]\n",
    "        if city == key:\n",
    "            county_code = cityStateMap[state]\n",
    "            codes.append(county_code)\n",
    "            pop =  cc2PopMap[county_code]\n",
    "            dist.append(pop)\n",
    "            total = total + pop\n",
    "            #print (state, pop, county_code)\n",
    "            \n",
    "            \n",
    "    if total == 0:\n",
    "        return \"\"\n",
    "    \n",
    "    for i, item in enumerate(dist):\n",
    "        dist[i] = dist[i]/total\n",
    "    sample = random.multinomial(1, dist, size=1)[0]\n",
    "    #print (sample)\n",
    "    index = np.nonzero(sample)[0][0]\n",
    "    #print (index)\n",
    "    #print (codes[index])\n",
    "    return codes[index]"
   ]
  },
  {
   "cell_type": "code",
   "execution_count": 19,
   "metadata": {
    "collapsed": false
   },
   "outputs": [],
   "source": [
    "csv.field_size_limit(sys.maxsize)\n",
    "# processing the data output\n",
    "i = 0\n",
    "heading = []\n",
    "code2cntyInfo = {}\n",
    "for ll in csv.reader( open(\"hivRatesData/AIDSVu_County_2012.csv\", 'r' )):\n",
    "    if i == 0:\n",
    "        heading = ll\n",
    "    else:\n",
    "        county_rate = int(ll[3])\n",
    "        if (  county_rate > 0 ): \n",
    "            county_name = ll[2]\n",
    "            state_name = ll[1]\n",
    "            key = county_name + \" \" + state_name\n",
    "            code = ll[0]\n",
    "            if len (code) < 5:\n",
    "                temp = ['0']*(5-len(code))\n",
    "                code = \"\".join(temp + [code])\n",
    "            code2cntyInfo[code] = {'rate':str(county_rate), 'name':key.strip()}\n",
    "        \n",
    "    i = i + 1\n"
   ]
  },
  {
   "cell_type": "code",
   "execution_count": 20,
   "metadata": {
    "collapsed": false
   },
   "outputs": [],
   "source": [
    "cityState2cc={}\n",
    "state2codes={}\n",
    "code2population={}\n",
    "nz_count = 0\n",
    "#with open ('pennData/population_usa_cities/all_2011_data.csv', encoding='latin-1') as f:\n",
    "with open ('pennData/population_usa_cities/all_2011_data.csv') as f:\n",
    "    datareader = csv.reader(f)\n",
    "    for row in datareader:\n",
    "        cc = ''.join(row[1:3])\n",
    "        if (row[0] == \"050\"):\n",
    "            nz_count = nz_count + 1\n",
    "            code2population[cc] = int(row[9])\n",
    "        \n",
    "            \n",
    "        if cc in code2cntyInfo :\n",
    "            city = re.sub(r'\\([^)]*\\)', '', row[6].lower().strip())\n",
    "            city = city.strip()\n",
    "            c_name = city.replace(\"city\", \"\").strip()\n",
    "            state = row[7].lower()\n",
    "            if state not in state2codes:\n",
    "                state2codes[state] = set([])\n",
    "            state2codes[state].add(cc)\n",
    "\n",
    "            key = ','.join([c_name,state])\n",
    "            #if key  in cityState2cc:\n",
    "            cityState2cc[ key ] = cc\n"
   ]
  },
  {
   "cell_type": "code",
   "execution_count": 26,
   "metadata": {
    "collapsed": false
   },
   "outputs": [
    {
     "name": "stdout",
     "output_type": "stream",
     "text": [
      "06055\n",
      "29007\n"
     ]
    }
   ],
   "source": [
    "#example ussage:\n",
    "#print (genCountyCode(state2codes, code2population, 'california'))\n",
    "#print (genCityCC (cityState2cc, code2population, 'vandalia'))"
   ]
  },
  {
   "cell_type": "code",
   "execution_count": 28,
   "metadata": {
    "collapsed": false
   },
   "outputs": [
    {
     "data": {
      "text/plain": [
       "'06037'"
      ]
     },
     "execution_count": 28,
     "metadata": {},
     "output_type": "execute_result"
    }
   ],
   "source": [
    "#cityState2cc['los angeles,california']"
   ]
  },
  {
   "cell_type": "code",
   "execution_count": 44,
   "metadata": {
    "collapsed": false
   },
   "outputs": [],
   "source": [
    "count = 0\n",
    "total = 0\n",
    "#map counties to tweets\n",
    "counties2tweets = {}\n",
    "#with gzip.open('pennData/test_pennUSLocations.csv.gz', 'rt') as csvfile:\n",
    "with gzip.open('pennData/test_pennUSLocations.csv.gz') as csvfile:\n",
    "    datareader = csv.reader(csvfile)\n",
    "    for row in datareader:\n",
    "        total= total+1\n",
    "        #case 1: it has both city and state\n",
    "        if  not (row[2] == \"\") and not (row[3] == \"\"):\n",
    "            twt_key = row[2]+','+row[3]\n",
    "            if (twt_key in cityState2cc):\n",
    "                county_code = cityState2cc[twt_key]\n",
    "            else:\n",
    "                county_code = \"\"\n",
    "                \n",
    "        #case 2: it only has state(no city)\n",
    "        elif not (row[3] == \"\"):\n",
    "            if row[3] in state2codes:\n",
    "                county_code = genCountyCode(state2codes, code2population, row[3])\n",
    "            else:\n",
    "                county_code = \"\"\n",
    "            \n",
    "        #case 3: only has city (no state)\n",
    "        elif not (row[2] == \"\"):\n",
    "            county_code = genCityCC (cityState2cc, code2population, row[2])\n",
    "            \n",
    "        #if row[2] == row[3]:\n",
    "        #    count = count + 1\n",
    "        #break\n",
    "        if not (county_code == \"\"):\n",
    "            if county_code not in counties2tweets:\n",
    "                counties2tweets[county_code] = []\n",
    "            \n",
    "            counties2tweets[county_code].append(row[1])\n",
    "            count = count + 1"
   ]
  },
  {
   "cell_type": "code",
   "execution_count": 43,
   "metadata": {
    "collapsed": false
   },
   "outputs": [
    {
     "data": {
      "text/plain": [
       "(1552, 1603)"
      ]
     },
     "execution_count": 43,
     "metadata": {},
     "output_type": "execute_result"
    }
   ],
   "source": [
    "#count, total"
   ]
  },
  {
   "cell_type": "code",
   "execution_count": 47,
   "metadata": {
    "collapsed": false
   },
   "outputs": [
    {
     "data": {
      "text/plain": [
       "'06075'"
      ]
     },
     "execution_count": 47,
     "metadata": {},
     "output_type": "execute_result"
    }
   ],
   "source": [
    "#county_code"
   ]
  },
  {
   "cell_type": "code",
   "execution_count": 56,
   "metadata": {
    "collapsed": false
   },
   "outputs": [],
   "source": [
    "for county_code in counties2tweets:\n",
    "    output_temp = code2cntyInfo[county_code]['name'] + \" \" +code2cntyInfo[county_code]['rate']\n",
    "    output_name = \"_\".join(output_temp.split())+\".txt\"\n",
    "    #print (output_name)\n",
    "    with open (\"temp_cities/\" + output_name, 'w') as f:\n",
    "        f.write('\\n'.join(counties2tweets[county_code]))"
   ]
  },
  {
   "cell_type": "code",
   "execution_count": null,
   "metadata": {
    "collapsed": true
   },
   "outputs": [],
   "source": []
  }
 ],
 "metadata": {
  "kernelspec": {
   "display_name": "Python 2",
   "language": "python",
   "name": "python2"
  },
  "language_info": {
   "codemirror_mode": {
    "name": "ipython",
    "version": 2
   },
   "file_extension": ".py",
   "mimetype": "text/x-python",
   "name": "python",
   "nbconvert_exporter": "python",
   "pygments_lexer": "ipython2",
   "version": "2.7.9"
  }
 },
 "nbformat": 4,
 "nbformat_minor": 0
}
