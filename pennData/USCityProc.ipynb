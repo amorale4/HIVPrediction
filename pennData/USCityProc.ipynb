{
 "cells": [
  {
   "cell_type": "code",
   "execution_count": 65,
   "metadata": {
    "collapsed": false
   },
   "outputs": [],
   "source": [
    "import csv, re\n"
   ]
  },
  {
   "cell_type": "code",
   "execution_count": 66,
   "metadata": {
    "collapsed": false
   },
   "outputs": [],
   "source": [
    "state2city = {}\n",
    "with open ( 'population_usa_cities/all_2011_data.csv' ) as f:\n",
    "    datareader = csv.reader(f)\n",
    "    # Data format:\n",
    "    # 0  - SUMLEV Geographic summary level\n",
    "    # 1  - STATE State FIPS code\n",
    "    # 2  - COUNTY County FIPS code\n",
    "    # 3  - PLACE Place FIPS code\n",
    "    # 4  - COUSUB Minor Civil Division FIPS code\n",
    "    # 5  - CONCIT Consolidated city FIPS code\n",
    "    # 6  - NAME Area name\n",
    "    # 7  - STNAME State name\n",
    "    # 8  - CENSUS2010POP 4/1/2010 resident Census 2010 population\n",
    "    # 9  - ESTIMATESBASE2010 4/1/2010 resident population estimates base\n",
    "    # 10 - POPESTIMATE2010 7/1/2010 resident population estimate\n",
    "    # 11 - POPESTIMATE2011 7/1/2011 resident population estimate\n",
    "    #count = 0\n",
    "    for row in datareader:\n",
    "        if row[3] == \"00000\":\n",
    "            continue\n",
    "        \n",
    "        if row[7] == row[6]:\n",
    "            continue\n",
    "        #print(row)\n",
    "        key = row[7].lower()\n",
    "        if key not in state2city:\n",
    "            state2city[key] = set([])\n",
    "        city = re.sub(r'\\([^)]*\\)', '', row[6].lower().strip())\n",
    "        city = city.strip()\n",
    "        #want to add los angesles instead of los angeles city\n",
    "        # and want to keep new york city instead of new york\n",
    "        #state2city[key].add(city)\n",
    "        c_name = city.replace(\"city\", \"\").strip()\n",
    "        state2city[key].add(c_name)\n",
    "        #count = count + 1"
   ]
  },
  {
   "cell_type": "code",
   "execution_count": 61,
   "metadata": {
    "collapsed": true
   },
   "outputs": [],
   "source": [
    "import pickle"
   ]
  },
  {
   "cell_type": "code",
   "execution_count": 62,
   "metadata": {
    "collapsed": false
   },
   "outputs": [],
   "source": [
    "with open ('state2city_data.pickle', 'wb') as f:\n",
    "    pickle.dump(state2city,f)"
   ]
  },
  {
   "cell_type": "code",
   "execution_count": 30,
   "metadata": {
    "collapsed": false
   },
   "outputs": [
    {
     "data": {
      "text/plain": [
       "'los angeles'"
      ]
     },
     "execution_count": 30,
     "metadata": {},
     "output_type": "execute_result"
    }
   ],
   "source": [
    "'los angeles city'.replace(\"city\", \"\").strip()"
   ]
  },
  {
   "cell_type": "code",
   "execution_count": null,
   "metadata": {
    "collapsed": true
   },
   "outputs": [],
   "source": []
  }
 ],
 "metadata": {
  "kernelspec": {
   "display_name": "Python 2",
   "language": "python",
   "name": "python2"
  },
  "language_info": {
   "codemirror_mode": {
    "name": "ipython",
    "version": 2
   },
   "file_extension": ".py",
   "mimetype": "text/x-python",
   "name": "python",
   "nbconvert_exporter": "python",
   "pygments_lexer": "ipython2",
   "version": "2.7.9"
  }
 },
 "nbformat": 4,
 "nbformat_minor": 0
}
