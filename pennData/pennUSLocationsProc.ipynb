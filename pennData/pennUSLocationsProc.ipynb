{
 "cells": [
  {
   "cell_type": "code",
   "execution_count": 1,
   "metadata": {
    "collapsed": true
   },
   "outputs": [],
   "source": [
    "import csv, gzip"
   ]
  },
  {
   "cell_type": "code",
   "execution_count": 5,
   "metadata": {
    "collapsed": false
   },
   "outputs": [
    {
     "name": "stdout",
     "output_type": "stream",
     "text": [
      "US\n",
      "USA\n",
      "New York, New York\n",
      "USA\n",
      "New York, NY\n",
      "US\n",
      "New York, NY\n",
      "USA\n",
      "US\n",
      "USA\n",
      "USA\n",
      "New York, NY\n",
      "US\n",
      "USA\n",
      "California, CA\n",
      "USA\n",
      "new york, ny\n",
      "USA\n",
      "US\n",
      "USA\n",
      "New York, NY\n",
      "USA\n",
      "USA\n",
      "Iowa City, IA\n",
      "USA\n",
      "New York, NY\n",
      "New York, NY\n",
      "New York, NY\n",
      "USA\n",
      "New York, NY\n",
      "New York, NY\n",
      "USA\n",
      "USA\n",
      "USA\n",
      "USA\n",
      "USA\n",
      "US\n",
      "USA\n",
      "USA\n",
      "USA\n",
      "US\n",
      "USA\n",
      "New York, New York\n",
      "New York, NY\n",
      "USA\n",
      "USA\n",
      "USA\n",
      "USA\n",
      "USA\n",
      "New York, NY\n",
      "New York, NY\n",
      "USA\n",
      "New York, NY\n",
      "Texas City, Texas\n",
      "US\n",
      "New York, NY\n",
      "New York, NY\n",
      "New York, NY\n",
      "New York, NY\n",
      "Oklahoma City, Ok\n",
      "Oklahoma City, Oklahoma\n",
      "USA\n",
      "USA\n",
      "New York, NY\n",
      "USA\n",
      "New York, NY\n",
      "USA\n",
      "New York, NY\n",
      "New York, NY\n",
      "USA\n"
     ]
    }
   ],
   "source": [
    "#map tweets to counties\n",
    "with gzip.open('test_pennUSLocations.csv.gz', 'rb') as csvfile:\n",
    "    datareader = csv.reader(csvfile)\n",
    "    for row in datareader:\n",
    "        if row[2] == row[3]:\n",
    "            print row[4]"
   ]
  },
  {
   "cell_type": "code",
   "execution_count": null,
   "metadata": {
    "collapsed": true
   },
   "outputs": [],
   "source": []
  }
 ],
 "metadata": {
  "kernelspec": {
   "display_name": "Python 2",
   "language": "python",
   "name": "python2"
  },
  "language_info": {
   "codemirror_mode": {
    "name": "ipython",
    "version": 2
   },
   "file_extension": ".py",
   "mimetype": "text/x-python",
   "name": "python",
   "nbconvert_exporter": "python",
   "pygments_lexer": "ipython2",
   "version": "2.7.9"
  }
 },
 "nbformat": 4,
 "nbformat_minor": 0
}
