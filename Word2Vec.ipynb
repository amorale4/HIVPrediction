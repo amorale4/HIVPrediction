{
 "cells": [
  {
   "cell_type": "code",
   "execution_count": 1,
   "metadata": {
    "collapsed": false
   },
   "outputs": [],
   "source": [
    "import gensim, logging, os\n",
    "logging.basicConfig(format='%(asctime)s : %(levelname)s : %(message)s', level=logging.INFO)"
   ]
  },
  {
   "cell_type": "code",
   "execution_count": 38,
   "metadata": {
    "collapsed": true
   },
   "outputs": [],
   "source": [
    "#replaceables = \n",
    "replaceables = []\n",
    "removables = ['~'] + ['@', 'U', '$', ',', 'G']\n",
    "\n",
    "def cleanTweet(tweet, tweet_pos):\n",
    "    tweet_l = tweet.split()\n",
    "    tweet_pos_l = tweet_pos.split()\n",
    "\n",
    "    if len(tweet_l) != len(tweet_pos_l):\n",
    "        for i, item in enumerate(tweet_l):\n",
    "            print (tweet_l[i], ',' , tweet_pos_l[i])\n",
    "        \n",
    "    clean_tweet = []\n",
    "    for i, item in enumerate(tweet_l):\n",
    "        if tweet_pos_l[i] in replaceables:\n",
    "            clean_tweet.append(tweet_pos_l[i])\n",
    "        elif tweet_pos_l[i] in removables:\n",
    "            None\n",
    "        else:\n",
    "            clean_tweet.append(item.lower())\n",
    "    \n",
    "    return clean_tweet\n",
    "\n",
    "\n",
    "class MySentences(object):\n",
    "    def __init__(self, dirname):\n",
    "        self.dirname = dirname\n",
    "        \n",
    "    def __iter__(self):\n",
    "        for fname in os.listdir(self.dirname):\n",
    "            if ( fname.split('.') [1] == \"tsv\" ):\n",
    "                #print (fname)\n",
    "                #yield fname\n",
    "                for line in open(os.path.join(self.dirname, fname)):\n",
    "                    tweet = line.split('\\t')[0]\n",
    "                    tweet_pos = line.split('\\t')[1]\n",
    "                    yield cleanTweet(tweet,tweet_pos)"
   ]
  },
  {
   "cell_type": "code",
   "execution_count": 31,
   "metadata": {
    "collapsed": false
   },
   "outputs": [
    {
     "name": "stdout",
     "output_type": "stream",
     "text": [
      "['Your', 'creativity', 'knows', 'no', 'bounds', 'today', ',', 'yet', ',', 'paradoxically', ',', 'you', '...', 'More', 'for', 'Scorpio', 'http://t.co/FwsAR3Mm8R']\n"
     ]
    }
   ],
   "source": [
    "for s in MySentences('../HIVTweets/cities/'):\n",
    "    print (s)\n",
    "    break"
   ]
  },
  {
   "cell_type": "code",
   "execution_count": 39,
   "metadata": {
    "collapsed": false
   },
   "outputs": [],
   "source": [
    "model_pos = gensim.models.Word2Vec( MySentences('../HIVTweets/cities/') , workers=3 )"
   ]
  },
  {
   "cell_type": "code",
   "execution_count": 51,
   "metadata": {
    "collapsed": false,
    "scrolled": false
   },
   "outputs": [
    {
     "data": {
      "text/plain": [
       "[('celeb', 0.6629003286361694),\n",
       " ('ignorant', 0.5880985856056213),\n",
       " ('young', 0.5832196474075317),\n",
       " ('fake', 0.576399564743042),\n",
       " ('phony', 0.5734721422195435),\n",
       " ('uneducated', 0.5659579038619995),\n",
       " ('sneaky', 0.5455955266952515),\n",
       " ('lesbians', 0.543302059173584),\n",
       " ('nowadays', 0.5222079753875732),\n",
       " ('lame', 0.5155227184295654),\n",
       " ('dumb', 0.5145758986473083),\n",
       " ('loyal', 0.5111547708511353),\n",
       " ('petty', 0.5111283659934998),\n",
       " ('sexist', 0.5055214166641235),\n",
       " ('homophobic', 0.5023050308227539),\n",
       " ('savages', 0.5008302927017212),\n",
       " ('classless', 0.4994264543056488),\n",
       " ('classy', 0.4990171790122986),\n",
       " ('faithful', 0.4974234402179718),\n",
       " ('clueless', 0.49739769101142883),\n",
       " ('bigots', 0.4942447543144226),\n",
       " ('trans', 0.4933505058288574),\n",
       " ('misogynistic', 0.4927158057689667),\n",
       " ('ghetto', 0.49114739894866943),\n",
       " ('sexually', 0.4892117977142334),\n",
       " ('hilarious', 0.489013671875),\n",
       " ('cannibalism', 0.4868989884853363),\n",
       " ('#dontdatesjws', 0.4868733286857605),\n",
       " ('shocking', 0.48346513509750366),\n",
       " ('bibi', 0.4834557771682739),\n",
       " ('disrespectful', 0.4813203513622284),\n",
       " ('#nomochemoforethan', 0.47687774896621704),\n",
       " ('jokes', 0.4751834273338318),\n",
       " ('bullied', 0.47349727153778076),\n",
       " ('liar', 0.47233521938323975),\n",
       " ('sinbad', 0.472190797328949),\n",
       " ('horrid', 0.4698326587677002),\n",
       " ('silly', 0.4693044126033783),\n",
       " ('men', 0.4688771963119507),\n",
       " ('meh', 0.4685131311416626),\n",
       " ('deranged', 0.46762487292289734),\n",
       " ('obnoxious', 0.46615463495254517),\n",
       " ('poor', 0.46570417284965515),\n",
       " ('grown', 0.4653359055519104),\n",
       " ('assaulted', 0.46481388807296753),\n",
       " ('wack', 0.46344810724258423),\n",
       " ('lightskin', 0.46185213327407837),\n",
       " ('freestyles', 0.4612328112125397),\n",
       " ('burying', 0.4605960547924042),\n",
       " ('sin', 0.45988696813583374),\n",
       " ('lesbian', 0.4597434401512146),\n",
       " ('immature', 0.4593765139579773),\n",
       " ('mature', 0.4589601159095764),\n",
       " ('kyla', 0.4589322805404663),\n",
       " ('nasty', 0.45793208479881287),\n",
       " ('bitches', 0.45789825916290283),\n",
       " ('#justiceformyriah', 0.4568279981613159),\n",
       " ('shocked', 0.45503318309783936),\n",
       " ('cops', 0.4537433981895447),\n",
       " ('unhappy', 0.4529685378074646),\n",
       " ('ruthless', 0.4526999592781067),\n",
       " ('sensitive', 0.4524153470993042),\n",
       " ('bras', 0.45195409655570984),\n",
       " ('manly', 0.4518945813179016),\n",
       " ('idec', 0.44977134466171265),\n",
       " ('fuckboys', 0.44880107045173645),\n",
       " ('#rhobh', 0.4485352635383606),\n",
       " ('slaves', 0.4483034312725067),\n",
       " ('ticklish', 0.4482163190841675),\n",
       " ('naive', 0.44704705476760864),\n",
       " ('racists', 0.44594886898994446),\n",
       " ('spitting', 0.44594311714172363),\n",
       " ('emotionless', 0.4458436965942383),\n",
       " ('younger', 0.44531533122062683),\n",
       " ('transgender', 0.4450148344039917),\n",
       " ('obese', 0.4442862868309021),\n",
       " ('faggots', 0.4440408945083618),\n",
       " ('corny', 0.4436923861503601),\n",
       " ('lmaooooo', 0.44344791769981384),\n",
       " ('rich', 0.4427453279495239),\n",
       " ('rapist', 0.4412488341331482),\n",
       " ('libs', 0.4408208131790161),\n",
       " ('annoying', 0.4403238594532013),\n",
       " ('hoe', 0.4400234520435333),\n",
       " ('revenge', 0.4399525821208954),\n",
       " ('portrayed', 0.43944865465164185),\n",
       " ('ugly', 0.4378458857536316),\n",
       " ('bastards', 0.4376986622810364),\n",
       " ('shallow', 0.4376493990421295),\n",
       " ('unforgettable', 0.4362398386001587),\n",
       " ('females', 0.4360955059528351),\n",
       " ('greedy', 0.43516507744789124),\n",
       " ('brave', 0.4334414005279541),\n",
       " ('manipulative', 0.4333823323249817),\n",
       " ('cocky', 0.4319891631603241),\n",
       " ('vince', 0.43011313676834106),\n",
       " ('cowards', 0.4300764799118042),\n",
       " ('dudes', 0.43006232380867004),\n",
       " ('it`s', 0.4293394684791565),\n",
       " ('secretly', 0.4267784357070923)]"
      ]
     },
     "execution_count": 51,
     "metadata": {},
     "output_type": "execute_result"
    }
   ],
   "source": [
    "model_pos.most_similar(positive=['gay'], topn=100)"
   ]
  },
  {
   "cell_type": "code",
   "execution_count": 52,
   "metadata": {
    "collapsed": false
   },
   "outputs": [
    {
     "data": {
      "text/plain": [
       "[('celeb', 0.6611173748970032),\n",
       " ('fake', 0.5898647308349609),\n",
       " ('ignorant', 0.5887501835823059),\n",
       " ('ghetto', 0.5412651896476746),\n",
       " ('dumb', 0.5387338399887085),\n",
       " ('pussies', 0.5279455184936523),\n",
       " ('faggots', 0.5094361305236816),\n",
       " ('loyal', 0.5042539238929749),\n",
       " ('fooling', 0.5039210319519043),\n",
       " ('spitting', 0.5023486614227295),\n",
       " ('lame', 0.4987438917160034),\n",
       " ('foreal', 0.49749162793159485),\n",
       " ('young', 0.4971228241920471),\n",
       " ('fuckboys', 0.49332195520401),\n",
       " ('rigged', 0.49318844079971313),\n",
       " ('mature', 0.4910591244697571),\n",
       " ('virgins', 0.49056893587112427),\n",
       " ('dudes', 0.4899100959300995),\n",
       " ('classless', 0.48868927359580994),\n",
       " ('lesbians', 0.48533958196640015),\n",
       " ('sneaky', 0.4773333668708801),\n",
       " ('chubby', 0.47713959217071533),\n",
       " ('foolin', 0.4748414158821106),\n",
       " ('grown', 0.4737111032009125),\n",
       " ('aren', 0.47309762239456177),\n",
       " ('incest', 0.47290360927581787),\n",
       " ('females', 0.4704551100730896),\n",
       " ('porn', 0.46988505125045776),\n",
       " ('savages', 0.4688999652862549),\n",
       " ('cannibalism', 0.4688287377357483),\n",
       " ('lool', 0.4665710926055908),\n",
       " ('clueless', 0.46572670340538025),\n",
       " ('shocking', 0.46428635716438293),\n",
       " ('kiddie', 0.4639326333999634),\n",
       " ('names', 0.45962631702423096),\n",
       " ('petty', 0.4589858651161194),\n",
       " ('scum', 0.4587053060531616),\n",
       " ('labeled', 0.4584239721298218),\n",
       " ('bullied', 0.4525425136089325),\n",
       " ('malicious', 0.45148199796676636),\n",
       " ('shy', 0.45071926712989807),\n",
       " ('trifling', 0.44966426491737366),\n",
       " ('corny', 0.44948625564575195),\n",
       " ('asses', 0.44916290044784546),\n",
       " ('acting', 0.44881635904312134),\n",
       " ('thot', 0.4456186294555664),\n",
       " ('barz', 0.4444233775138855),\n",
       " ('retarded', 0.443790465593338),\n",
       " ('weird', 0.4436218738555908),\n",
       " ('nowadays', 0.44318610429763794),\n",
       " ('_____', 0.44247138500213623),\n",
       " ('actin', 0.4423733353614807),\n",
       " ('opposites', 0.4422171711921692),\n",
       " ('freaky', 0.4414113163948059),\n",
       " ('treated', 0.4412241578102112),\n",
       " ('younger', 0.44113287329673767),\n",
       " ('wih', 0.4402271509170532),\n",
       " ('admirable', 0.43757563829421997),\n",
       " ('reckless', 0.4370843172073364),\n",
       " ('beyonc', 0.43429750204086304),\n",
       " ('bitches', 0.4322669506072998),\n",
       " ('sexually', 0.43178433179855347),\n",
       " ('men', 0.43061086535453796),\n",
       " ('ruthless', 0.43059831857681274),\n",
       " ('whore', 0.4296591281890869),\n",
       " ('wifey', 0.42870479822158813),\n",
       " ('flashy', 0.4286128878593445),\n",
       " ('niggas', 0.42856407165527344),\n",
       " ('reviewers', 0.4261326491832733),\n",
       " ('weak', 0.4257563352584839),\n",
       " ('cheatin', 0.4257214069366455),\n",
       " ('lightskin', 0.42543190717697144),\n",
       " ('asian', 0.4253551959991455),\n",
       " ('naughty', 0.4251568913459778),\n",
       " ('openly', 0.424956738948822),\n",
       " ('girls', 0.42305299639701843),\n",
       " ('messin', 0.4219718873500824),\n",
       " ('homeless', 0.42115145921707153),\n",
       " ('rape', 0.42078810930252075),\n",
       " ('brave', 0.4203566312789917),\n",
       " ('cheerful', 0.41997045278549194),\n",
       " ('faithful', 0.41977250576019287),\n",
       " ('shady', 0.41969260573387146),\n",
       " ('abused', 0.41952967643737793),\n",
       " ('pathetic', 0.4193355441093445),\n",
       " ('naked', 0.41879791021347046),\n",
       " ('rich', 0.41870832443237305),\n",
       " ('couples', 0.4186195135116577),\n",
       " ('lor', 0.4181748330593109),\n",
       " ('beatings', 0.4179877042770386),\n",
       " ('greedy', 0.41763579845428467),\n",
       " ('utd', 0.417127400636673),\n",
       " ('liars', 0.4169052541255951),\n",
       " ('annoying', 0.4165247678756714),\n",
       " ('ugly', 0.41621387004852295),\n",
       " ('poor', 0.4150358736515045),\n",
       " ('teenage', 0.4145129323005676),\n",
       " ('mothafuckas', 0.4142996668815613),\n",
       " ('so-called', 0.41296258568763733),\n",
       " ('backwards', 0.4128943085670471)]"
      ]
     },
     "execution_count": 52,
     "metadata": {},
     "output_type": "execute_result"
    }
   ],
   "source": [
    "model.most_similar(positive=['gay'], topn=100)"
   ]
  },
  {
   "cell_type": "code",
   "execution_count": 23,
   "metadata": {
    "collapsed": false
   },
   "outputs": [
    {
     "data": {
      "text/plain": [
       "0.49142343942298483"
      ]
     },
     "execution_count": 23,
     "metadata": {},
     "output_type": "execute_result"
    }
   ],
   "source": [
    "model.similarity('hiv','infection')"
   ]
  },
  {
   "cell_type": "code",
   "execution_count": null,
   "metadata": {
    "collapsed": true
   },
   "outputs": [],
   "source": []
  }
 ],
 "metadata": {
  "kernelspec": {
   "display_name": "Python 3",
   "language": "python",
   "name": "python3"
  },
  "language_info": {
   "codemirror_mode": {
    "name": "ipython",
    "version": 3
   },
   "file_extension": ".py",
   "mimetype": "text/x-python",
   "name": "python",
   "nbconvert_exporter": "python",
   "pygments_lexer": "ipython3",
   "version": "3.4.3"
  }
 },
 "nbformat": 4,
 "nbformat_minor": 0
}
