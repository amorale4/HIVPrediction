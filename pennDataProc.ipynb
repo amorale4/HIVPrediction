{
 "cells": [
  {
   "cell_type": "code",
   "execution_count": 1,
   "metadata": {
    "collapsed": false
   },
   "outputs": [
    {
     "data": {
      "text/plain": [
       "131072"
      ]
     },
     "execution_count": 1,
     "metadata": {},
     "output_type": "execute_result"
    }
   ],
   "source": [
    "import csv\n",
    "from scipy import spatial\n",
    "import numpy as np\n",
    "import sys\n",
    "csv.field_size_limit(sys.maxsize)"
   ]
  },
  {
   "cell_type": "code",
   "execution_count": 2,
   "metadata": {
    "collapsed": true
   },
   "outputs": [],
   "source": [
    "inputFile = \"pennData/sample.csv\"\n",
    "locFile = \"pennData/locationlist.txt\""
   ]
  },
  {
   "cell_type": "code",
   "execution_count": 3,
   "metadata": {
    "collapsed": true
   },
   "outputs": [],
   "source": [
    "#twitter data format\n",
    "# id\n",
    "# message_id\n",
    "# term\n",
    "# category\n",
    "# message\n",
    "# created_time\n",
    "# coordinates\n",
    "# coordinates_state\n",
    "# coordinates_address\n",
    "# from_id\n",
    "# in_reply_to_message_id\n",
    "# in_reply_to_from_id\n",
    "# retweet_message_id\n",
    "# location\n",
    "# friend_count\n",
    "# followers_count\n",
    "# time_zone\n",
    "# lang\n",
    "# has_hashtag\n",
    "class pennTwitterData(object):\n",
    "    def __init__(self, fname, flocations):\n",
    "        self.fname = fname\n",
    "        lines = []\n",
    "        self.fcities={}\n",
    "        self.frates={}\n",
    "        with open ( flocations, 'r') as f:\n",
    "            for line in f.readlines():\n",
    "                s_line = line.split('.')[0].split('_')\n",
    "                #print(s_line)\n",
    "                \n",
    "                if s_line[1] in self.fcities:\n",
    "                    self.fcities[s_line[1]].append(s_line[0])\n",
    "                else:\n",
    "                    self.fcities[ s_line[1] ] = [ s_line[0] ]\n",
    "                    \n",
    "                self.frates [ \",\".join(s_line[:2]) ]= s_line[2]\n",
    "           \n",
    "    def __iter__(self):\n",
    "        for line in csv.reader( open(self.fname, 'r' )):\n",
    "            yield line"
   ]
  },
  {
   "cell_type": "code",
   "execution_count": 8,
   "metadata": {
    "collapsed": true
   },
   "outputs": [],
   "source": [
    "# DATA FORMAT - http://download.geonames.org/export/dump/\n",
    "        #0  geonameid         : integer id of record in geonames database\n",
    "        #1  name              : name of geographical point (utf8) varchar(200)\n",
    "        #2  asciiname         : name of geographical point in plain ascii characters, varchar(200)\n",
    "        #3  alternatenames    : alternatenames, comma separated, ascii names automatically transliterated, convenience attribute from alternatename table, varchar(10000)\n",
    "        #4  latitude          : latitude in decimal degrees (wgs84)\n",
    "        #5  longitude         : longitude in decimal degrees (wgs84)\n",
    "        #6  feature class     : see http://www.geonames.org/export/codes.html, char(1)\n",
    "        #7  feature code      : see http://www.geonames.org/export/codes.html, varchar(10)\n",
    "        #8  country code      : ISO-3166 2-letter country code, 2 characters\n",
    "        #9  cc2               : alternate country codes, comma separated, ISO-3166 2-letter country code, 200 characters\n",
    "        #10 admin1 code       : fipscode (subject to change to iso code), see exceptions below, see file admin1Codes.txt for display names of this code; varchar(20)\n",
    "        #11 admin2 code       : code for the second administrative division, a county in the US, see file admin2Codes.txt; varchar(80) \n",
    "        #12 admin3 code       : code for third level administrative division, varchar(20)\n",
    "        #13 admin4 code       : code for fourth level administrative division, varchar(20)\n",
    "        #14 population        : bigint (8 byte int) \n",
    "        #15 elevation         : in meters, integer\n",
    "        #16 dem               : digital elevation model, srtm3 or gtopo30, average elevation of 3''x3'' (ca 90mx90m) or 30''x30'' (ca 900mx900m) area in meters, integer. srtm processed by cgiar/ciat.\n",
    "        #17 timezone          : the timezone id (see file timeZone.txt) varchar(40)\n",
    "        #18 modification date : date of last modification in yyyy-MM-dd format\n",
    "class geoLocFinder(object):\n",
    "    def __init__(self, countyCodes, flocations):\n",
    "\n",
    "        #from countycode to the County Name\n",
    "        self.code2county= {}\n",
    "        for line in csv.reader( open(countyCodes, 'r' ), delimiter='\\t'):\n",
    "            self.code2county[line[0]] = line[1:]\n",
    "            \n",
    "        #create nearest neighbor\n",
    "        self.cord2loc = {}\n",
    "        for line in csv.reader( open(flocations, 'r' ), delimiter='\\t'):\n",
    "            if ( line[10] == '' or line[11] == ''):\n",
    "                continue\n",
    "            \n",
    "            countyCode = 'US.'+line[10]+'.'+line[11]\n",
    "            self.cord2loc[ (float(line[4]), float(line[5]) ) ] = countyCode\n",
    "            \n",
    "        #nearest neighbors\n",
    "        data = []\n",
    "        for (lat, long) in self.cord2loc.keys():\n",
    "            data.append((lat,long))\n",
    "        \n",
    "        self.tree = spatial.KDTree(data)\n",
    "        \n",
    "    def findLoc(self, latitude, longitude):\n",
    "        pts = np.array([latitude, longitude])\n",
    "        nn = self.tree.query(pts)\n",
    "        \n",
    "        loc_cords = self.tree.data[nn[1]]\n",
    "        locCode = self.cord2loc[(loc_cords[0], loc_cords[1])]\n",
    "        return self.code2county[locCode] + [nn[0], locCode]"
   ]
  },
  {
   "cell_type": "code",
   "execution_count": 5,
   "metadata": {
    "collapsed": true
   },
   "outputs": [],
   "source": [
    "ptd = pennTwitterData(inputFile, locFile)"
   ]
  },
  {
   "cell_type": "code",
   "execution_count": 9,
   "metadata": {
    "collapsed": false
   },
   "outputs": [],
   "source": [
    "glf = geoLocFinder(\"geoname/US/us_counties.txt\",\"geoname/US/US.txt\" )"
   ]
  },
  {
   "cell_type": "code",
   "execution_count": 11,
   "metadata": {
    "collapsed": false,
    "scrolled": true
   },
   "outputs": [
    {
     "data": {
      "text/plain": [
       "['Albany',\n",
       " 'Allegany',\n",
       " 'Bronx',\n",
       " 'Broome',\n",
       " 'Cattaraugus',\n",
       " 'Chenango',\n",
       " 'Columbia',\n",
       " 'Cortland',\n",
       " 'Delaware',\n",
       " 'Erie',\n",
       " 'Fulton',\n",
       " 'Herkimer',\n",
       " 'Kings',\n",
       " 'Lewis',\n",
       " 'Madison',\n",
       " 'Monroe',\n",
       " 'Montgomery',\n",
       " 'Niagara',\n",
       " 'Onondaga',\n",
       " 'Ontario',\n",
       " 'Oswego',\n",
       " 'Otsego',\n",
       " 'Putnam',\n",
       " 'Queens',\n",
       " 'Rensselaer',\n",
       " 'Richmond',\n",
       " 'Rockland',\n",
       " 'Saratoga',\n",
       " 'Schenectady',\n",
       " 'Schoharie',\n",
       " 'Steuben',\n",
       " 'Tioga',\n",
       " 'Tompkins',\n",
       " 'Warren',\n",
       " 'Wayne',\n",
       " 'Yates']"
      ]
     },
     "execution_count": 11,
     "metadata": {},
     "output_type": "execute_result"
    }
   ],
   "source": [
    "ptd.fcities['NY']"
   ]
  },
  {
   "cell_type": "code",
   "execution_count": 10,
   "metadata": {
    "collapsed": false
   },
   "outputs": [
    {
     "name": "stdout",
     "output_type": "stream",
     "text": [
      "0\n",
      "1\n",
      "['New York County', 'New York County', '5128594', 0.00093562439044885448, 'US.NY.061']\n",
      "coordinates : ['40.856228', '-73.935783']\n",
      "40.856228 -73.935783\n",
      "coordinates_state : NY\n",
      "coordinates_address : NY\n",
      "location : iPhone: 40.856228,-73.935783\n",
      "2\n",
      "['Santa Cruz County', 'Santa Cruz County', '5393068', 0.00059478567568957842, 'US.CA.087']\n",
      "coordinates : ['36.963333', '-121.990479']\n",
      "36.963333 -121.990479\n",
      "coordinates_state : CA\n",
      "coordinates_address : CA\n",
      "location : iPhone: 36.963333,-121.990479\n",
      "3\n",
      "['New Haven County', 'New Haven County', '4839373', 0.0030578714819281955, 'US.CT.009']\n",
      "coordinates : ['41.489857', '-73.032043']\n",
      "41.489857 -73.032043\n",
      "coordinates_state : CT\n",
      "coordinates_address : CT\n",
      "location : iPhone: 41.489857,-73.032043\n",
      "4\n",
      "['Queens County', 'Queens County', '5133268', 0.0019673357618870718, 'US.NY.081']\n",
      "coordinates : ['40.774963', '-73.930779']\n",
      "40.774963 -73.930779\n",
      "coordinates_state : NY\n",
      "coordinates_address : NY\n",
      "location : iPhone: 40.774963,-73.930779\n",
      "5\n",
      "['Queens County', 'Queens County', '5133268', 0.0019673357618870718, 'US.NY.081']\n",
      "coordinates : ['40.774963', '-73.930779']\n",
      "40.774963 -73.930779\n",
      "coordinates_state : NY\n",
      "coordinates_address : NY\n",
      "location : iPhone: 40.774963,-73.930779\n",
      "6\n",
      "['Lafayette Parish', 'Lafayette Parish', '4330160', 0.00069452501755252918, 'US.LA.055']\n",
      "coordinates : ['30.216682', '-92.020111']\n",
      "30.216682 -92.020111\n",
      "coordinates_state : LA\n",
      "coordinates_address : LA\n",
      "location : iPhone: 30.216682,-92.020111\n",
      "7\n",
      "['Middlesex County', 'Middlesex County', '4943909', 0.0015232809983733715, 'US.MA.017']\n",
      "coordinates : ['42.343571', '-71.102592']\n",
      "42.343571 -71.102592\n",
      "coordinates_state : MA\n",
      "coordinates_address : MA\n",
      "location : iPhone: 42.343571,-71.102592\n",
      "8\n",
      "['Middlesex County', 'Middlesex County', '4943909', 0.0015232809983733715, 'US.MA.017']\n",
      "coordinates : ['42.343571', '-71.102592']\n",
      "42.343571 -71.102592\n",
      "coordinates_state : MA\n",
      "coordinates_address : MA\n",
      "location : iPhone: 42.343571,-71.102592\n",
      "9\n",
      "['New York County', 'New York County', '5128594', 0.00053917065943947953, 'US.NY.061']\n",
      "coordinates : ['40.802331', '-73.964402']\n",
      "40.802331 -73.964402\n",
      "coordinates_state : NY\n",
      "coordinates_address : NY\n",
      "location : iPhone: 40.802331,-73.964402\n"
     ]
    }
   ],
   "source": [
    "headings = []\n",
    "for i, line in enumerate(ptd):\n",
    "    print (i)\n",
    "    if i == 0:\n",
    "        headings = line\n",
    "    else:\n",
    "        for j, item in enumerate(line):\n",
    "            if headings[j] == \"coordinates\":\n",
    "                temp = item.split(\"'\")\n",
    "                lat = float(temp[1])\n",
    "                long = float(temp[3])\n",
    "                \n",
    "                print (glf.findLoc(lat,long))\n",
    "                print (headings[j], \":\", item)\n",
    "                print (lat,long)\n",
    "            #if headings[j] == \"created_time\":\n",
    "            #    print (headings[j], \":\", item)\n",
    "            if headings[j] == \"coordinates_address\":\n",
    "                print (headings[j], \":\", item)\n",
    "            if headings[j] == \"coordinates_state\":\n",
    "                print (headings[j], \":\", item)\n",
    "            if headings[j] == \"location\":\n",
    "                print (headings[j], \":\", item)\n",
    "    "
   ]
  },
  {
   "cell_type": "code",
   "execution_count": 142,
   "metadata": {
    "collapsed": false
   },
   "outputs": [],
   "source": [
    "#"
   ]
  },
  {
   "cell_type": "code",
   "execution_count": 140,
   "metadata": {
    "collapsed": false
   },
   "outputs": [
    {
     "data": {
      "text/plain": [
       "['Aleutians West Census Area', 'Aleutians West Census Area', '5879164']"
      ]
     },
     "execution_count": 140,
     "metadata": {},
     "output_type": "execute_result"
    }
   ],
   "source": [
    "\n",
    "\n",
    "\n",
    "data = []\n",
    "for (lat, long) in cord2loc:\n",
    "    data.append((float(lat),float(long)))\n",
    "tree = spatial.KDTree(data)\n",
    "tree.data[40]\n",
    "\n",
    "pts = np.array([52.39, 173.60])\n",
    "result = tree.query(pts)\n",
    "print (result[1])\n",
    "cords = tree.data[result[1]]\n",
    "cord2loc[(cords[0], cords[1])]\n",
    "\n",
    "\n",
    "glf.findLoc(52.39, 173.60)\n",
    "dd[0.1] = 1\n",
    "dd"
   ]
  },
  {
   "cell_type": "code",
   "execution_count": null,
   "metadata": {
    "collapsed": true
   },
   "outputs": [],
   "source": []
  }
 ],
 "metadata": {
  "kernelspec": {
   "display_name": "Python 3",
   "language": "python",
   "name": "python3"
  },
  "language_info": {
   "codemirror_mode": {
    "name": "ipython",
    "version": 3
   },
   "file_extension": ".py",
   "mimetype": "text/x-python",
   "name": "python",
   "nbconvert_exporter": "python",
   "pygments_lexer": "ipython3",
   "version": "3.4.3"
  }
 },
 "nbformat": 4,
 "nbformat_minor": 0
}
